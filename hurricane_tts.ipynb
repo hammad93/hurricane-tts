{
  "nbformat": 4,
  "nbformat_minor": 0,
  "metadata": {
    "colab": {
      "provenance": [],
      "authorship_tag": "ABX9TyPbi/1QDMcqVDRHCOwnoHil",
      "include_colab_link": true
    },
    "kernelspec": {
      "name": "python3",
      "display_name": "Python 3"
    },
    "language_info": {
      "name": "python"
    }
  },
  "cells": [
    {
      "cell_type": "markdown",
      "metadata": {
        "id": "view-in-github",
        "colab_type": "text"
      },
      "source": [
        "<a href=\"https://colab.research.google.com/github/hammad93/hurricane-tts/blob/main/hurricane_tts.ipynb\" target=\"_parent\"><img src=\"https://colab.research.google.com/assets/colab-badge.svg\" alt=\"Open In Colab\"/></a>"
      ]
    },
    {
      "cell_type": "markdown",
      "source": [
        "# Installation\n",
        "Please make sure to run all tests."
      ],
      "metadata": {
        "id": "CqzmueEKpOf_"
      }
    },
    {
      "cell_type": "code",
      "execution_count": 1,
      "metadata": {
        "colab": {
          "base_uri": "https://localhost:8080/"
        },
        "id": "NXdg-aYiMX3y",
        "outputId": "6f1cc568-143f-41b2-e010-ad6247c1a836"
      },
      "outputs": [
        {
          "output_type": "stream",
          "name": "stdout",
          "text": [
            "Cloning into 'hurricane-tts'...\n",
            "remote: Enumerating objects: 41, done.\u001b[K\n",
            "remote: Counting objects: 100% (41/41), done.\u001b[K\n",
            "remote: Compressing objects: 100% (29/29), done.\u001b[K\n",
            "remote: Total 41 (delta 18), reused 28 (delta 10), pack-reused 0\u001b[K\n",
            "Receiving objects: 100% (41/41), 13.58 KiB | 6.79 MiB/s, done.\n",
            "Resolving deltas: 100% (18/18), done.\n"
          ]
        }
      ],
      "source": [
        "!git clone https://github.com/hammad93/hurricane-tts.git"
      ]
    },
    {
      "cell_type": "code",
      "source": [
        "import os\n",
        "from google.colab import userdata\n",
        "if not os.getenv(\"AZURE_OPENAI_API_KEY\") :\n",
        "  os.environ[\"AZURE_OPENAI_API_KEY\"] = userdata.get('AZURE_OPENAI_API_KEY')"
      ],
      "metadata": {
        "id": "wRMRxcgXMqNH"
      },
      "execution_count": 2,
      "outputs": []
    },
    {
      "cell_type": "code",
      "source": [
        "!pip install -r hurricane-tts/requirements.txt"
      ],
      "metadata": {
        "colab": {
          "base_uri": "https://localhost:8080/"
        },
        "id": "7sd6zskfNexR",
        "outputId": "6443942e-a929-4bf5-9087-1a831f178eb1"
      },
      "execution_count": 3,
      "outputs": [
        {
          "output_type": "stream",
          "name": "stdout",
          "text": [
            "Requirement already satisfied: pandas in /usr/local/lib/python3.10/dist-packages (from -r hurricane-tts/requirements.txt (line 1)) (1.5.3)\n",
            "Requirement already satisfied: requests in /usr/local/lib/python3.10/dist-packages (from -r hurricane-tts/requirements.txt (line 2)) (2.31.0)\n",
            "Requirement already satisfied: beautifulsoup4 in /usr/local/lib/python3.10/dist-packages (from -r hurricane-tts/requirements.txt (line 3)) (4.11.2)\n",
            "Requirement already satisfied: lxml in /usr/local/lib/python3.10/dist-packages (from -r hurricane-tts/requirements.txt (line 4)) (4.9.3)\n",
            "Collecting openai (from -r hurricane-tts/requirements.txt (line 5))\n",
            "  Downloading openai-1.2.0-py3-none-any.whl (219 kB)\n",
            "\u001b[2K     \u001b[90m━━━━━━━━━━━━━━━━━━━━━━━━━━━━━━━━━━━━━━━━\u001b[0m \u001b[32m219.9/219.9 kB\u001b[0m \u001b[31m4.1 MB/s\u001b[0m eta \u001b[36m0:00:00\u001b[0m\n",
            "\u001b[?25hRequirement already satisfied: python-dateutil>=2.8.1 in /usr/local/lib/python3.10/dist-packages (from pandas->-r hurricane-tts/requirements.txt (line 1)) (2.8.2)\n",
            "Requirement already satisfied: pytz>=2020.1 in /usr/local/lib/python3.10/dist-packages (from pandas->-r hurricane-tts/requirements.txt (line 1)) (2023.3.post1)\n",
            "Requirement already satisfied: numpy>=1.21.0 in /usr/local/lib/python3.10/dist-packages (from pandas->-r hurricane-tts/requirements.txt (line 1)) (1.23.5)\n",
            "Requirement already satisfied: charset-normalizer<4,>=2 in /usr/local/lib/python3.10/dist-packages (from requests->-r hurricane-tts/requirements.txt (line 2)) (3.3.2)\n",
            "Requirement already satisfied: idna<4,>=2.5 in /usr/local/lib/python3.10/dist-packages (from requests->-r hurricane-tts/requirements.txt (line 2)) (3.4)\n",
            "Requirement already satisfied: urllib3<3,>=1.21.1 in /usr/local/lib/python3.10/dist-packages (from requests->-r hurricane-tts/requirements.txt (line 2)) (2.0.7)\n",
            "Requirement already satisfied: certifi>=2017.4.17 in /usr/local/lib/python3.10/dist-packages (from requests->-r hurricane-tts/requirements.txt (line 2)) (2023.7.22)\n",
            "Requirement already satisfied: soupsieve>1.2 in /usr/local/lib/python3.10/dist-packages (from beautifulsoup4->-r hurricane-tts/requirements.txt (line 3)) (2.5)\n",
            "Requirement already satisfied: anyio<4,>=3.5.0 in /usr/local/lib/python3.10/dist-packages (from openai->-r hurricane-tts/requirements.txt (line 5)) (3.7.1)\n",
            "Requirement already satisfied: distro<2,>=1.7.0 in /usr/lib/python3/dist-packages (from openai->-r hurricane-tts/requirements.txt (line 5)) (1.7.0)\n",
            "Collecting httpx<1,>=0.23.0 (from openai->-r hurricane-tts/requirements.txt (line 5))\n",
            "  Downloading httpx-0.25.1-py3-none-any.whl (75 kB)\n",
            "\u001b[2K     \u001b[90m━━━━━━━━━━━━━━━━━━━━━━━━━━━━━━━━━━━━━━━━\u001b[0m \u001b[32m75.0/75.0 kB\u001b[0m \u001b[31m5.8 MB/s\u001b[0m eta \u001b[36m0:00:00\u001b[0m\n",
            "\u001b[?25hRequirement already satisfied: pydantic<3,>=1.9.0 in /usr/local/lib/python3.10/dist-packages (from openai->-r hurricane-tts/requirements.txt (line 5)) (1.10.13)\n",
            "Requirement already satisfied: tqdm>4 in /usr/local/lib/python3.10/dist-packages (from openai->-r hurricane-tts/requirements.txt (line 5)) (4.66.1)\n",
            "Requirement already satisfied: typing-extensions<5,>=4.5 in /usr/local/lib/python3.10/dist-packages (from openai->-r hurricane-tts/requirements.txt (line 5)) (4.5.0)\n",
            "Requirement already satisfied: sniffio>=1.1 in /usr/local/lib/python3.10/dist-packages (from anyio<4,>=3.5.0->openai->-r hurricane-tts/requirements.txt (line 5)) (1.3.0)\n",
            "Requirement already satisfied: exceptiongroup in /usr/local/lib/python3.10/dist-packages (from anyio<4,>=3.5.0->openai->-r hurricane-tts/requirements.txt (line 5)) (1.1.3)\n",
            "Collecting httpcore (from httpx<1,>=0.23.0->openai->-r hurricane-tts/requirements.txt (line 5))\n",
            "  Downloading httpcore-1.0.1-py3-none-any.whl (76 kB)\n",
            "\u001b[2K     \u001b[90m━━━━━━━━━━━━━━━━━━━━━━━━━━━━━━━━━━━━━━━━\u001b[0m \u001b[32m76.9/76.9 kB\u001b[0m \u001b[31m7.3 MB/s\u001b[0m eta \u001b[36m0:00:00\u001b[0m\n",
            "\u001b[?25hRequirement already satisfied: six>=1.5 in /usr/local/lib/python3.10/dist-packages (from python-dateutil>=2.8.1->pandas->-r hurricane-tts/requirements.txt (line 1)) (1.16.0)\n",
            "Collecting h11<0.15,>=0.13 (from httpcore->httpx<1,>=0.23.0->openai->-r hurricane-tts/requirements.txt (line 5))\n",
            "  Downloading h11-0.14.0-py3-none-any.whl (58 kB)\n",
            "\u001b[2K     \u001b[90m━━━━━━━━━━━━━━━━━━━━━━━━━━━━━━━━━━━━━━━━\u001b[0m \u001b[32m58.3/58.3 kB\u001b[0m \u001b[31m7.1 MB/s\u001b[0m eta \u001b[36m0:00:00\u001b[0m\n",
            "\u001b[?25hInstalling collected packages: h11, httpcore, httpx, openai\n",
            "\u001b[31mERROR: pip's dependency resolver does not currently take into account all the packages that are installed. This behaviour is the source of the following dependency conflicts.\n",
            "llmx 0.0.15a0 requires cohere, which is not installed.\n",
            "llmx 0.0.15a0 requires tiktoken, which is not installed.\u001b[0m\u001b[31m\n",
            "\u001b[0mSuccessfully installed h11-0.14.0 httpcore-1.0.1 httpx-0.25.1 openai-1.2.0\n"
          ]
        }
      ]
    },
    {
      "cell_type": "code",
      "source": [
        "%cd hurricane-tts\n",
        "!python test.py"
      ],
      "metadata": {
        "colab": {
          "base_uri": "https://localhost:8080/"
        },
        "id": "W2ljOo9aM_ne",
        "outputId": "0954c570-7d53-409e-e486-f9954c8eb346"
      },
      "execution_count": 4,
      "outputs": [
        {
          "output_type": "stream",
          "name": "stdout",
          "text": [
            "/content/hurricane-tts\n",
            "Please note that the AZURE_OPENAI_API_KEY must be set. Here are the constructed messages: [{'role': 'system', 'content': 'You are an AI assistant that helps people find information.'}, {'role': 'user', 'content': 'test'}]\n",
            "..\n",
            "----------------------------------------------------------------------\n",
            "Ran 2 tests in 7.283s\n",
            "\n",
            "OK\n"
          ]
        }
      ]
    },
    {
      "cell_type": "code",
      "source": [
        "import prompts\n",
        "# we generate prompts by ingesting live hurricane data and supported languages\n",
        "storm_data = utils.transform_storm_data()\n",
        "prompt_data = prompts.generate_prompts()\n",
        "supported_langs = prompts.unique_lang_list()"
      ],
      "metadata": {
        "id": "vw08RBuutZkA"
      },
      "execution_count": 10,
      "outputs": []
    },
    {
      "cell_type": "code",
      "source": [
        "# example\n",
        "print(prompt_data['storms'][0])"
      ],
      "metadata": {
        "colab": {
          "base_uri": "https://localhost:8080/"
        },
        "id": "1YnvaaMytvvb",
        "outputId": "14da77eb-b0f4-493a-c642-335316c6e0a7"
      },
      "execution_count": 6,
      "outputs": [
        {
          "output_type": "stream",
          "name": "stdout",
          "text": [
            "These are the input storm records and forecasts.\n",
            "Each record has a lat and lon according to their geographic coordinates and wind speed in knots.\n",
            "Please respond with the 3 most relevant languages exactly as they appear from the supported language list other than English each delimited by a comma.\n",
            "[{'type': 'history', 'lat': 4.8, 'lon': 152.0, 'time': '2023-11-08 18:00:00', 'wind_speed': 15}, {'type': 'history', 'lat': 5.1, 'lon': 151.4, 'time': '2023-11-09 00:00:00', 'wind_speed': 15}, {'type': 'history', 'lat': 5.3, 'lon': 150.8, 'time': '2023-11-09 06:00:00', 'wind_speed': 15}, {'type': 'forecast', 'lat': 5.5, 'lon': 151.0, 'time': '2023-11-09T18:00:00', 'wind_speed': 20}, {'type': 'forecast', 'lat': 5.9, 'lon': 151.5, 'time': '2023-11-10T06:00:00', 'wind_speed': 25}, {'type': 'forecast', 'lat': 6.4, 'lon': 152.0, 'time': '2023-11-10T18:00:00', 'wind_speed': 30}, {'type': 'forecast', 'lat': 6.7, 'lon': 152.5, 'time': '2023-11-11T06:00:00', 'wind_speed': 35}, {'type': 'forecast', 'lat': 7.2, 'lon': 153.5, 'time': '2023-11-12T06:00:00', 'wind_speed': 40}]\n"
          ]
        }
      ]
    },
    {
      "cell_type": "code",
      "source": [],
      "metadata": {
        "colab": {
          "base_uri": "https://localhost:8080/"
        },
        "id": "PYE8l6Qj7i1z",
        "outputId": "773a8089-1439-425a-e2c2-7d8ef02b4407"
      },
      "execution_count": 13,
      "outputs": [
        {
          "output_type": "execute_result",
          "data": {
            "text/plain": [
              "dict_keys(['WP952023', 'SH912023'])"
            ]
          },
          "metadata": {},
          "execution_count": 13
        }
      ]
    },
    {
      "cell_type": "markdown",
      "source": [
        "# Language Geography inference from tropical storm geographical coorindates\n",
        "We're trying to answer the question, \"Which languages do we produce speech for to report on this tropical storm?\" This pipeline will produce an English output but also utilize massively multilingual capabilities such that emergency notices are also in local languages"
      ],
      "metadata": {
        "id": "vBDVhqc9DIAF"
      }
    },
    {
      "cell_type": "code",
      "source": [
        "import utils\n",
        "retries = 5 # sometimes it fails, so we retry it\n",
        "storm_langs = {} # keys are storm id's and values are the languages\n",
        "storm_chats = {} # stores chat histories for storms\n",
        "for index, storm_prompt in enumerate(prompt_data['storms']) :\n",
        "  storm_id = list(storm_data.keys())[index]\n",
        "  # Get the languages to generate the report for this storm\n",
        "  while retries > 0 :\n",
        "    response = prompts.chat(system=prompt_data['system'], message=storm_prompt)\n",
        "    print(response)\n",
        "    result = utils.llm_response_transform(\n",
        "        resp=response, supported_langs=supported_langs)\n",
        "    print(result)\n",
        "    if result :\n",
        "      break\n",
        "    else :\n",
        "      retries = retries - 1\n",
        "      print(f\"Failed. Retries left: {retries}\")\n",
        "  if retries < 1 :\n",
        "    raise Exception(\"Couldn't produce a correct output from LLM.\")\n",
        "\n",
        "  # store results\n",
        "  storm_langs[storm_id] = {'names': result}\n",
        "  storm_chats[storm_id] = {\n",
        "      'history' : [{'role': 'system', 'content': prompt_data['system']},\n",
        "                   {'role': 'user', 'content': storm_prompt},\n",
        "                   {'role': 'assistant', 'content': response}]\n",
        "  }"
      ],
      "metadata": {
        "colab": {
          "base_uri": "https://localhost:8080/"
        },
        "id": "iaSXEDyq3Pet",
        "outputId": "ce0e331e-64c6-43b5-bd23-6b51d2836845"
      },
      "execution_count": 15,
      "outputs": [
        {
          "output_type": "stream",
          "name": "stdout",
          "text": [
            "Please note that the AZURE_OPENAI_API_KEY must be set. Here are the constructed messages: [{'role': 'system', 'content': \"You are an expert in languages according to their geographical location.\\nI have a system for emergency notification of tropical storms that utilizes official data sources and creates speech audio from text with a massively multilingual model.\\nThis is the list of supported languages,\\n{'Ambai', 'Mixtec, YosondÃºa', 'Spanish', 'Chinantec, OzumacÃ\\\\xadn', 'Chinese, Hakka', 'Zoque, Francisco LeÃ³n', 'Buli', 'Bodo Parja', 'French', 'Tektiteko', 'Lingao', 'Acholi', 'Chin, Hakha', 'Gilaki', 'Chin, Matu', 'Klon', 'Garo', 'Kandozi-Chapra', 'Molima', 'Quechua, Northern Conchucos Ancash', 'Urat', 'Vietnamese', 'Nagamese', 'Sidamo', 'Mukulu', 'Makonde', 'Somali', 'Gonja', 'Hungarian', 'Chin, Bawm', 'Mato', 'Malayic Dayak', 'Tatuyo', 'Kagulu', 'Palaung, Ruching', 'Binukid', 'Zapotec, San Vicente CoatlÃ¡n', 'Khmu', 'Amazigh', 'Chinantec, Usila', 'Lugbara', 'Gogo', 'Amuzgo, San Pedro Amuzgos', 'Kupia', 'Chinese, Min Nan', 'Nyankore', 'Wali', 'Mixtec, Ocotepec', 'Baka', 'Ahanta', 'Sangu', 'Rajbanshi', 'Lacandon', 'Romblomanon', 'EmberÃ¡, Northern', 'CofÃ¡n', 'Kalinga, Lubuagan', 'Hatam', 'Latin', 'Uab Meto', 'Bimoba', 'Kankanaey', 'MÃ©nik', 'Nahuatl, Isthmus-Mecayapan', 'Tunebo, Central', 'Muthuvan', 'Kaulong', 'Chorote, Iyojwaâ\\\\x80\\\\x99ja', 'Mixtec, Atatlahuca', 'Chipaya', 'Jola-Kasa', 'Tehit', 'Erzya', 'Zaza', 'Naxi', 'Mixe, CoatlÃ¡n', 'Bora', 'Tontemboan', 'Waama', 'Azerbaijani, North', 'German, Standard', 'GourmanchÃ©ma', 'Achang', 'Kakataibo-Kashibo', 'Ayta, Abellen', 'Akan', 'Tibetan, Central', 'Huastec', 'Rendille', 'Borong', 'Ateso', 'Dargwa', 'Gela', 'Kaqchikel', 'Sekpele', 'Tewa', 'Belize English Creole', 'Yakan', 'Bamanankan', 'Palauan', 'Tairora, North', 'Gbaya, Southwest', 'Wapishana', 'Sama, Central', 'Bharia', 'Quechua, Lambayeque', 'Lele', 'Malvi', 'DogosÃ©', 'Kutu', 'Ho', 'Inga', 'Bislama', 'Shawi', 'Quechua, Cusco', 'Nahuatl, Tlamacazapa', 'Luang', 'Obolo', 'Iyo', 'Ifugao, Amganad', 'Lamba', 'Greek', 'Gamo', 'Zapotec, Mixtepec', 'Ivbie North-Okpela-Arhe', 'Dani, Western', 'Chachi', 'Baruga', 'Jingpho', 'Sedoa', 'Bagheli', 'Bauzi', 'Aringa', 'Kagayanen', 'Tobanga', 'Tepehua, Huehuetla', 'Balantak', 'Rampi', 'Gulay', 'Tzeltal', 'Wayana', 'Pangasinan', 'Nyabwa', 'Bikol, Buhiâ\\\\x80\\\\x99non', 'Yemba', 'Luwo', 'Nahuatl, Eastern Huasteca', 'TerÃªna', 'Misima-Panaeati', 'Tai Dam', 'Didinga', 'Tol', 'SÃ©noufo, Supyire', 'Waiwai', 'Yamba', 'Hawaii Pidgin', 'Dida, YocobouÃ©', 'Zapotec, Western Tlacolula Valley', 'Yagua', 'Tibetan, Amdo', 'Dagara, Northern', 'Baatonum', 'Dani, Mid Grand Valley', 'Kisar', 'KayabÃ\\\\xad', 'Mam', 'Totonac, Highland', 'Nogai', 'Kwaio', 'Amharic', 'Tepehua, Pisaflores', 'Dza', 'Makaa', 'Mixtec, Magdalena PeÃ±asco', 'Kolami, Northwestern', 'Chiquitano', 'Hindustani, Sarnami', 'Koya', 'Nawdm', 'Sirmauri', 'Manobo, Western Bukidnon', 'Mandeali', 'Mixtec, Alcozauca', 'Mbay', 'Bwanabwana', 'Ngulu', 'Pitjantjatjara', 'Kyanga', 'Chin, Thado', 'Tairora, South', 'Yine', 'Hindi', 'Ignaciano', 'Mixtec, Ayutla', 'Kaansa', 'Khmer', 'Bisa', 'Ikwo', 'Wersing', 'WampÃ\\\\xads', 'Bengali', 'Meyah', 'Yaminahua', 'Kambaata', 'Sunwar', 'Greek, Ancient', 'Lole', 'Siane', 'Quichua, Salasaca Highland', 'Bughotu', 'Puinave', 'YanomamÃ¶', 'Tarifit', 'Tagin', 'Ojibwa, Northwestern', 'Sylheti', 'Tzotzil', 'Juray', 'Nahuatl, Northern Puebla', 'NambikuÃ¡ra, Southern', 'Bambam', 'Kulina', 'Kwere', 'Balochi, Southern', 'Kamano', 'Gujarati', 'Chiduruma', 'Nande', 'Ossetic', 'Vili', 'Seychelles French Creole', 'Desano', 'Nzema', 'Yuracare', 'Mabaan', 'Hindi, Fiji', 'Yambeta', 'Quechua, HuamalÃ\\\\xades-Dos de Mayo HuÃ¡nuco', 'Umbu-Ungu', 'Catalan', 'Rangpuri', 'Halbi', 'Sena', 'Awadhi', 'Tacana', 'Kuvi', 'Kumam', 'Ede Idaca', 'Maka', 'Patamona', 'Nahuatl, ZacatlÃ¡n-AhuacatlÃ¡n-Tepetzintla', 'Susu', 'Kaili, Daâ\\\\x80\\\\x99a', 'Shanga', 'Tsafiki', 'Kire', 'Krio', 'Tennet', 'Wala', 'DangalÃ©at', 'Puroik', 'Tajik', 'Korean', 'Suba', 'Bassa', 'Tatar', 'Odia', 'Tii', 'Tangoa', 'Tumak', 'Kenyang', 'Maâ\\\\x80\\\\x99di', 'Ganda', 'Male', 'Mentawai', 'Tolaki', 'Chukchi', 'Tamasheq', 'Mixtec, Santa LucÃ\\\\xada Monteverde', 'Bonggi', 'Sukuma', 'Haryanvi', 'Lahu', 'Witoto, Murui', 'Blaan, Koronadal', 'GuajajÃ¡ra', 'Quichua, Napo', 'Javanese, Suriname', 'Akoose', 'Mixtec, Chayuco', 'Kaili, Ledo', 'Udmurt', 'Chin, Falam', 'AshÃ©ninka, Ucayali-YurÃºa', 'Dogon, Toro So', 'Moba', 'Mixe, Totontepec', 'Chinantec, Lealao', 'Bokobaru', 'Fuliiru', 'Bhattiyali', 'Mannan', 'Tucano', 'Uduk', 'Batak Simalungun', 'Wolio', 'Nasa', 'AshÃ¡ninka', 'Korupun-Sela', 'Semelai', 'Fali, South', 'Akeu', 'Siwu', 'Dawro', 'Boko', 'Mayo', 'Nahuatl, Western Huasteca', 'Kamwe', 'PaumarÃ\\\\xad', 'Jakalteko', 'Kalinga, Majukayang', 'NadÃ«b', 'Epena', 'Tikar', 'Melpa', 'Urak Lawoiâ\\\\x80\\\\x99', 'Malay, Manado', 'Pele-Ata', 'Quechua, Huaylla Wanca', 'Nateni', 'Tagalog', 'Karachay-Balkar', 'Gwichâ\\\\x80\\\\x99in', 'Ifugao, Mayoyao', 'Basque', 'Kanite', 'Duri', 'Guarayu', 'Tuma-Irumu', 'Ninzo', 'Mada', 'Wayuu', 'Roviana', 'Koonzime', 'Swahili', 'Saramaccan', 'Assamese', 'Juang', 'Jopadhola', 'Quechua, Cajamarca', 'Bru, Eastern', 'Kwamera', 'Mende', 'Fon', 'Kulung', 'Machame', 'Tarahumara, Western', 'Fataleka', 'Buang, Mapos', 'Kurux', 'Berom', 'Muna', 'Nyole', 'Tobelo', 'Chuj', 'Chorote, Iyoâ\\\\x80\\\\x99wujwa', 'Toba-Maskoy', 'Owa', 'Dagba', 'Morisyen', 'Dzongkha', 'Nawuri', 'Kwaraâ\\\\x80\\\\x99ae', 'Swedish', 'Jola-Fonyi', 'KabiyÃ¨', 'Vidunda', 'Rabha', 'Blaan, Sarangani', 'Kisi, Southern', 'Quechua, Huallaga', 'Kuo', 'Maâ\\\\x80\\\\x99anyan', 'Yala', 'Sasak', 'Maldivian', 'Awakateko', 'Digaro-Mishmi', 'Hehe', 'Penan, Eastern', 'Naga, Kharam', 'Wandala', 'Hausa', 'Cacua', 'Gwahatike', 'Kogi', 'Nuni, Southern', 'Ravula', 'Zande', 'Uzbek', 'Holiya', 'Aruamu', 'BakwÃ©', 'Bemba', 'Limba, West-Central', 'Lampung Api', 'Gen', 'Aralle-Tabulahan', 'Daba', 'Papiamentu', 'Chinantec, Tepetotutla', 'Bana', 'Vagla', 'Riang Lang', 'Kannada', 'Kenga', 'Mixtec, Santa MarÃ\\\\xada Zacatepec', 'Rapa Nui', 'Purepecha', 'Cishingini', 'Hanunoo', 'Ila', 'Triqui, Chicahuaxtla', 'Imbongu', 'Toura', 'Moro', 'Mwaghavul', 'Yoruba', 'Alur', 'Kiribati', 'Mankanya', 'Churahi', 'Batak Toba', 'Nyakyusa-Ngonde', 'Sampang', 'Yipma', 'Zhuang, Yongbei', 'Mazatec, San JerÃ³nimo TecÃ³atl', 'Poqomchiâ\\\\x80\\\\x99', 'Vute', 'Aceh', 'Binumarien', 'Muyang', 'Mochi', 'Zapotec, Yatee', 'Tachelhit', 'Samburu', 'Toraja-Saâ\\\\x80\\\\x99dan', 'Bada', 'Uyghur', 'Quechua, Huaylas Ancash', 'Tampulma', 'Nahuatl, Central Huasteca', 'Quechua, Margos-Yarowilca-Lauricocha', 'Paranan', 'Ranglong', 'Anufo', 'Lolopo', 'Maya, MopÃ¡n', 'Oromo', 'Ukrainian', 'Tawbuid', 'Lokaa', 'Mbandja', 'Zapotec, YalÃ¡lag', 'Saâ\\\\x80\\\\x99a', 'Zapotec, Ozolotepec', 'Kanuri, Manga', 'Toba', 'Qâ\\\\x80\\\\x99eqchiâ\\\\x80\\\\x99', 'Merey', 'Witoto, Minika', 'Dedua', 'Quechua, Eastern ApurÃ\\\\xadmac', 'Songhay, Koyraboro Senni', 'Nyaturu', 'Romani, Carpathian', 'Ndut', 'Desiya', 'Tigrigna', 'Zapotec, Isthmus', 'PÃ©vÃ©', 'Chin, MÃ¼Ã¼n', 'KayapÃ³', 'Limbu', 'Kâ\\\\x80\\\\x99icheâ\\\\x80\\\\x99', 'Ngangam', 'Izii', 'Telugu', 'Nahuatl, MichoacÃ¡n', 'Waima', 'Albanian', 'Bali', 'Trinitario', 'Romani, Vlax', 'Zapotec, Guevea de Humboldt', 'IfÃ¨', 'Birifor, Malba', 'Keliko', 'Amis', 'Manobo, Obo', 'Arop-Lokep', 'Oroko', 'Fulah', 'Ketengban', 'Zigula', 'Kilivila', 'Bobo MadarÃ©, Southern', 'Ixil', 'Lauje', 'Lomwe', 'Zapotec, Quioquitani-QuierÃ\\\\xad', 'Quechua, San MartÃ\\\\xadn', 'Ngambay', 'Loko', 'Popoloca, San LuÃ\\\\xads Temalacayuca', 'Aukan', 'Lawa, Western', 'Selaru', 'Tombulu', 'Ngâ\\\\x80\\\\x99akarimojong', 'Kigiryama', 'Talinga-Bwisi', 'Mro-Khimi', 'Ese', 'Tuwuli', 'Aymara, Central', 'Arabela', 'Mampruli', 'Baelelea', 'Mengen', 'Triqui, Copala', 'Luguru', 'Piratapuyo', 'Chidigo', 'Khanty', 'Mixtec, TezoatlÃ¡n', 'Nahuatl, Sierra Negra', 'Kalanguya', 'Warao', 'Achagua', 'Yao', 'Shuar', 'Zapotec, MiahuatlÃ¡n', 'Kasem', 'Gokana', 'Chinantec, Sochiapam', 'Zapotec, RincÃ³n', 'Yami', 'Tibetan, Khams', 'Karelian', 'Tsikimba', 'Krung', 'Mixtec, Diuxi-Tilantongo', 'Chopi', 'Dinka, Southwestern', 'Zapotec, Cajonos', 'Kako', 'Momuna', 'Matsigenka', 'Cerma', 'Ilocano', 'Rundi', 'Sabaot', 'WÃ¨ Northern', 'Tsonga', 'Sambal', 'Batak Dairi', 'Adioukrou', 'Napu', 'Murut, Timugon', 'Mixtec, Northern Tlaxiaco', 'Zapotec, Sierra de JuÃ¡rez', 'Khakas', 'Songhay, Koyra Chiini', 'Zapotec, Yareni', 'Ika', 'Makhuwa', 'Kinyarwanda', 'Sambal, Botolan', 'Sadri', 'Itelmen', 'Yucuna', 'Klao', 'Macushi', 'Nyindrou', 'Kriol', 'Nahuatl, Highland Puebla', 'Achuar-Shiwiar', 'Kebu', 'Alune', 'Zapotec, Santa MarÃ\\\\xada Quiegolani', 'Abidji', 'Wolaytta', 'Ipili', 'Asu', 'Markweeta', 'Paicoca', 'Angor', 'Rikou', 'Bidayuh, Bau', 'Rawang', 'Huave, San Mateo del Mar', 'Sahu', 'Sissala', 'Prai', 'Naasioi', 'Tboli', 'Zapotec, LachixÃ\\\\xado', 'Mongolian', 'Nomatsigenga', 'Maan', 'Paiute, Northern', 'Koorete', 'Woun Meu', 'Zapotec, Texmelucan', 'Guahibo', 'Chittagonian', 'Ndamba', 'Burmese', 'Sakachep', 'AshÃ©ninka, Pichis', 'Themne', 'Kaapor', 'Sango', 'Marba', 'Moronene', 'Zaiwa', 'Hdi', 'AttiÃ©', 'Ghari', 'Tem', 'Persian', 'Qâ\\\\x80\\\\x99anjobâ\\\\x80\\\\x99al', 'Malay, Central', 'Itawit', 'Ntcham', 'Malay', 'Tsakhur', 'Carapana', 'Pahari, Mahasu', 'Welsh', 'YaourÃ©', 'Lobi', 'Guarani', 'Kim', 'Subanon, Western', 'Kuna, Border', 'Tabaru', 'Châ\\\\x80\\\\x99ortiâ\\\\x80\\\\x99', 'Kuman', 'Dagaare, Southern', 'Quichua, Tena Lowland', 'Grebo, Northern', 'Mon', 'Mazatec, Ayautla', 'Zapotec, AloÃ¡pam', 'Galela', 'Chechen', 'Wamey', 'Faroese', 'Tlicho', 'Kusaal', 'Tyap', 'Lelemi', 'Quechua, Panao', 'Siang', 'Buamu', 'Chuvash', 'Jamaican English Creole', 'Azerbaijani, South', 'Kinaray-a', 'Mangseng', 'Lutos', 'Yupik, Saint Lawrence Island', 'Capanahua', 'Mixtec, Alacatlatzala', 'Quichua, CaÃ±ar Highland', 'Teribe', 'KamayurÃ¡', 'Garifuna', 'Moskona', 'Otomi, QuerÃ©taro', 'Gapapaiwa', 'Kadazan Dusun', 'Pogolo', 'Birifor, Southern', 'AshÃ©ninka, Pajonal', 'Saamya-Gwe', 'Chamacoco', 'Yaneshaâ\\\\x80\\\\x99', 'Gbaya', 'Malayalam', 'Tuyuca', 'Bagri', 'Talysh', 'Lamnsoâ\\\\x80\\\\x99', 'Tok Pisin', 'Bandial', 'Buglere', 'Paasaal', 'Hamer-Banna', 'Tzâ\\\\x80\\\\x99utujil', 'Avokaya', 'Zapotec, Choapan', 'Quechua, Ayacucho', 'Ayoreo', 'Metaâ\\\\x80\\\\x99', 'Turkmen', 'Yawa', 'Kuwaa', 'Gikuyu', 'Chatino, Eastern Highland', 'Maithili', 'Ezaa', 'Pinyin', 'Dhimal', 'Mnong, Central', 'Gorontalo', 'Moma', 'Nahuatl, Northern Oaxaca', 'Palawano, Brookeâ\\\\x80\\\\x99s Point', 'Selee', 'Mwani', 'Maya, Yucatec', 'Anjam', 'Lobala', 'Dinka, Northeastern', 'Mixe, Quetzaltepec', 'Tamil', 'Ekajuk', 'Adele', 'Javanese', 'Pahari, Kullu', 'Ese Ejja', 'Anyin', 'Turkish', 'Miyobe', 'Chol', 'Punjabi, Eastern', 'Rejang', 'Mixtec, Coatzospan', 'Mamasa', 'TriÃ³', 'Bikol, Central', 'Idaâ\\\\x80\\\\x99an', 'Benga', 'Ticuna', 'Termanu', 'Daasanach', 'Mbula-Bwazza', 'Nalca', 'Matal', 'Wa, Parauk', 'Kinga', 'Kalinga, Butbut', 'Tamajaq, Tawallammat', 'Behoa', 'Pijin', 'Minangkabau', 'Yakut', 'Samoan', 'Kitharaka', 'Bedjond', 'Cuiba', 'Kandawo', 'Ambrym, North', 'Konso', 'Tonga', 'AchÃ©', 'Latvian', 'Tado', 'Bekwarra', 'Takia', 'Agutaynen', 'Urarina', 'Konkomba', 'Lao', 'Jur Modo', 'Kafa', 'Enxet', 'Shilluk', 'Zapotec, Yatzachi', 'Maskelynes', 'Bulgarian', 'LyÃ©lÃ©', 'Bahnar', 'Koryak', 'Chin, Eastern Khumi', 'Mixtec, Pinotepa Nacional', 'Lisu', 'Nkonya', 'Portuguese', 'Sebat Bet Gurage', 'Tagbanwa, Calamian', 'Hanga', 'Mofu, North', 'Dhao', 'Yom', 'Bhatri', 'Lango', 'Karakalpak', 'Kurumba, Alu', 'Mbuko', 'Muria, Far Western', 'Mixtec, Southern Puebla', 'Sranan Tongo', 'Bantoanon', 'Kangri', 'Tajio', 'Siona', 'Shambala', 'AwajÃºn', 'Garhwali', 'Gadaba, Mudhili', 'Kayah, Western', 'Macuna', 'Nafaanra', 'Awa-Cuaiquer', 'ParecÃ\\\\xads', 'Mapun', 'XerÃ©nte', 'Kumyk', 'Quichua, Northern Pastaza', 'Tohono Oâ\\\\x80\\\\x99odham', 'Somba-Siawari', 'Nuer', 'Batak Angkola', 'Kalmyk-Oirat', 'Chhattisgarhi', 'English', 'Mundari', 'Surgujia', 'Pamona', 'Lomwe, Malawi', 'Zapotec, Mitla', 'Kurdish, Northern', 'Kunda', 'Dan', 'Ifugao, Batad', 'Indonesian', 'Ramoaaina', 'Samo, Southern', 'Yamdena', 'Arosi', 'Wanano', 'Shipibo-Conibo', 'Arabic', 'Teiwa', 'Chin, Zyphe', 'Biali', 'Gude', 'Mango', 'Quechua, North Bolivian', 'Kuay', 'Kalagan', 'Sherpa', 'Chinantec, Palantla', 'Chinantec, Comaltepec', 'Iban', 'Ayta, Mag-Indi', 'Shona', 'Crimean Tatar', 'Akateko', 'Kabwa', 'Semai', 'Magahi', 'KonabÃ©rÃ©', 'Nias', 'SÃ©noufo, Mamara', 'Ronga', 'Laz', 'MÃ\\\\xadskito', 'Tanna, North', 'Komi-Zyrian', 'Nyoro', 'Ngaju', 'Mokole', 'Sougb', 'Aghul', 'Mixtec, Jamiltepec', 'Kawyaw', 'Cebuano', 'Manobo, Matigsalug', 'Malagasy', 'Masaaba', 'Achi', 'Torres Strait Creole', 'Vunjo', 'Kazakh', 'Kutep', 'Murle', 'Fijian', 'Mari, Meadow', 'Sisaala, Tumulung', 'Huli', 'Zulgo-Gemzek', 'KimrÃ©', 'Kashinawa', 'Mongondow', 'Manya', 'Dutch', 'Krumen, Plapo', 'Gwere', 'Nahuatl, Southeastern Puebla', 'Bashkort', 'Nugunu', 'Muinane', 'Gaddi', 'Gor', 'Haya', 'Chingoni', 'Orya', 'Lacid', 'Whitesands', 'Makhuwa-Meetto', 'Awa', 'Islander English Creole', 'Kapampangan', 'Cree, Plains', 'Makasar', 'Oniyan', 'Newar', 'Ifugao, Tuwali', 'Totonac, Coyutla', 'Thai', 'Jula', 'Cora, Santa Teresa', 'Alangan', 'Gagauz', 'Mazatec, IxcatlÃ¡n', 'Popoloca, San Marcos Tlacoyalco', 'Marathi', 'Chontal, Tabasco', 'Misak', 'Chinantec, Lalana', 'BisÃ£', 'Batak Karo', 'Kouya', 'Lama', 'Yalunka', 'Nanai', 'Bomu', 'Haitian Creole', 'Ngbaka', 'Maranao', 'Kupsapiiny', 'Lik', 'Bari', 'Lhao Vo', 'Ã\\\\x89wÃ©', 'Chichewa', 'Romani, Sinte', 'Gondi, Adilabad', 'Siriano', 'Sudest', 'Mazahua, Central', 'Sangir', 'Urdu', 'Gumuz', 'Evenki', 'Zapotec, OcotlÃ¡n', 'Khmer, Northern', 'Kakwa', 'Sunda', 'Dogri', 'Yali, Angguruk', 'Kyaka', 'Rigwe', 'Barai', 'Oku', 'Datooga', 'Delo', 'Altai, Southern', 'SÃ©noufo, Djimini', 'Kuranko', 'Agarabi', 'Parkwa', 'Shor', 'Vengo', 'Chatino, Nopala', 'Madura', 'Mixe, Juquila', 'Chumburung', 'Lewo', 'Romanian', 'Azerbaijani', 'Gungu', 'Zapotec, Coatecas Altas', 'Uspanteko', 'Finnish', 'Lukpa', 'Sharanahua', 'Ditammari', 'BakhtiÃ¢ri', 'Uma', 'Gikyode', 'Mambila, Cameroon', 'Mbore', 'Mixtec, PeÃ±oles', 'Otomi, Mezquital', 'Mandinka', 'Mixtec, Amoltepec', 'Naga, Tangshang', 'Bete-Bendi', 'Cora, El Nayar', 'Quechua, South Bolivian', 'Kimaragang', 'Ndogo', 'Caquinte', 'Polish', 'Karen, Pwo Northern', 'Nahuatl, Guerrero', 'Embera CatÃ\\\\xado', 'Zapotec, AmatlÃ¡n', 'Marshallese', 'Kukele', 'Kera', 'Rohingya', 'Waray-Waray', 'Icelandic', 'Chin, Tedim', 'Ron', 'Taabwa', 'Kuwaataay', 'Kallahan, Keley-i', 'Mazatec, ChiquihuitlÃ¡n', 'Mofu-Gudur', 'Bisu', 'Quechua, North JunÃ\\\\xadn', 'Bola', 'Mesme', 'Mundani', 'Kipfokomo', 'Pengo', 'Fordata', 'Noone', 'Karaboro, Eastern', 'Waimaha', 'Jukun Takum', 'Ngindo', 'Malay, Kupang', 'Mambila, Nigeria', 'Dendi', 'MÃ²orÃ©', 'Xaasongaxango', 'Thai, Northern', 'Deg', 'Mixtec, Apasco-Apoala', 'Shan', 'Iraqw', 'Hupla', 'Carib', 'BorÃ´ro', 'Hebrew', 'Mwan', 'Kalinga, Tanudan', 'Armenian, Western', 'Pidgin, Nigerian', 'Tamang, Eastern', 'NgÃ¤bere', 'Loma', 'Yali, Ninia', 'Tengger', 'Krumen, Tepo', 'Uripiv-Wala-Rano-Atchin', 'Avar', 'Tharu, Dangaura', 'Lesser Antillean French Creole', 'Hawu', 'Akawaio', 'Ayta, Mag-antsi', 'Soga', 'Migabac', 'Mualang', 'Tepehua, Tlachichilco', 'Tepehuan, Southeastern', 'Popoluca, Highland', 'Konni', 'Avatime', 'Tombonuo', 'CabÃ©car', 'Hiligaynon', 'Kuna, San Blas', 'Mazatec, Jalapa de DÃ\\\\xadaz', 'Moru', 'Mumuye', 'Koreguaje', 'Gofa', 'Akha', 'Quechua, Southern Conchucos', 'Mixtec, MetlatÃ³noc', 'MÃ¼ndÃ¼', 'Lundayeh', 'Guayabero', 'Nilamba', 'TsimanÃ©', 'Russian', 'SanumÃ¡', 'Keyagana', 'Ladakhi', 'Zapotec, Santo Domingo Albarradas', 'Bum', 'Izere', 'Kono', 'Mai Brat', 'Nomaande', 'Kyrgyz'}.\"}, {'role': 'user', 'content': \"These are the input storm records and forecasts.\\nEach record has a lat and lon according to their geographic coordinates and wind speed in knots.\\nPlease respond with the 3 most relevant languages exactly as they appear from the supported language list other than English each delimited by a comma.\\n[{'type': 'history', 'lat': 4.8, 'lon': 152.0, 'time': '2023-11-08 18:00:00', 'wind_speed': 15}, {'type': 'history', 'lat': 5.1, 'lon': 151.4, 'time': '2023-11-09 00:00:00', 'wind_speed': 15}, {'type': 'history', 'lat': 5.3, 'lon': 150.8, 'time': '2023-11-09 06:00:00', 'wind_speed': 15}, {'type': 'forecast', 'lat': 5.5, 'lon': 151.0, 'time': '2023-11-09T18:00:00', 'wind_speed': 20}, {'type': 'forecast', 'lat': 5.9, 'lon': 151.5, 'time': '2023-11-10T06:00:00', 'wind_speed': 25}, {'type': 'forecast', 'lat': 6.4, 'lon': 152.0, 'time': '2023-11-10T18:00:00', 'wind_speed': 30}, {'type': 'forecast', 'lat': 6.7, 'lon': 152.5, 'time': '2023-11-11T06:00:00', 'wind_speed': 35}, {'type': 'forecast', 'lat': 7.2, 'lon': 153.5, 'time': '2023-11-12T06:00:00', 'wind_speed': 40}]\"}]\n",
            "Vietnamese, Tagalog, Malay\n",
            "['Vietnamese', 'Tagalog', 'Malay']\n",
            "['Vietnamese', 'Tagalog', 'Malay']\n",
            "Please note that the AZURE_OPENAI_API_KEY must be set. Here are the constructed messages: [{'role': 'system', 'content': \"You are an expert in languages according to their geographical location.\\nI have a system for emergency notification of tropical storms that utilizes official data sources and creates speech audio from text with a massively multilingual model.\\nThis is the list of supported languages,\\n{'Ambai', 'Mixtec, YosondÃºa', 'Spanish', 'Chinantec, OzumacÃ\\\\xadn', 'Chinese, Hakka', 'Zoque, Francisco LeÃ³n', 'Buli', 'Bodo Parja', 'French', 'Tektiteko', 'Lingao', 'Acholi', 'Chin, Hakha', 'Gilaki', 'Chin, Matu', 'Klon', 'Garo', 'Kandozi-Chapra', 'Molima', 'Quechua, Northern Conchucos Ancash', 'Urat', 'Vietnamese', 'Nagamese', 'Sidamo', 'Mukulu', 'Makonde', 'Somali', 'Gonja', 'Hungarian', 'Chin, Bawm', 'Mato', 'Malayic Dayak', 'Tatuyo', 'Kagulu', 'Palaung, Ruching', 'Binukid', 'Zapotec, San Vicente CoatlÃ¡n', 'Khmu', 'Amazigh', 'Chinantec, Usila', 'Lugbara', 'Gogo', 'Amuzgo, San Pedro Amuzgos', 'Kupia', 'Chinese, Min Nan', 'Nyankore', 'Wali', 'Mixtec, Ocotepec', 'Baka', 'Ahanta', 'Sangu', 'Rajbanshi', 'Lacandon', 'Romblomanon', 'EmberÃ¡, Northern', 'CofÃ¡n', 'Kalinga, Lubuagan', 'Hatam', 'Latin', 'Uab Meto', 'Bimoba', 'Kankanaey', 'MÃ©nik', 'Nahuatl, Isthmus-Mecayapan', 'Tunebo, Central', 'Muthuvan', 'Kaulong', 'Chorote, Iyojwaâ\\\\x80\\\\x99ja', 'Mixtec, Atatlahuca', 'Chipaya', 'Jola-Kasa', 'Tehit', 'Erzya', 'Zaza', 'Naxi', 'Mixe, CoatlÃ¡n', 'Bora', 'Tontemboan', 'Waama', 'Azerbaijani, North', 'German, Standard', 'GourmanchÃ©ma', 'Achang', 'Kakataibo-Kashibo', 'Ayta, Abellen', 'Akan', 'Tibetan, Central', 'Huastec', 'Rendille', 'Borong', 'Ateso', 'Dargwa', 'Gela', 'Kaqchikel', 'Sekpele', 'Tewa', 'Belize English Creole', 'Yakan', 'Bamanankan', 'Palauan', 'Tairora, North', 'Gbaya, Southwest', 'Wapishana', 'Sama, Central', 'Bharia', 'Quechua, Lambayeque', 'Lele', 'Malvi', 'DogosÃ©', 'Kutu', 'Ho', 'Inga', 'Bislama', 'Shawi', 'Quechua, Cusco', 'Nahuatl, Tlamacazapa', 'Luang', 'Obolo', 'Iyo', 'Ifugao, Amganad', 'Lamba', 'Greek', 'Gamo', 'Zapotec, Mixtepec', 'Ivbie North-Okpela-Arhe', 'Dani, Western', 'Chachi', 'Baruga', 'Jingpho', 'Sedoa', 'Bagheli', 'Bauzi', 'Aringa', 'Kagayanen', 'Tobanga', 'Tepehua, Huehuetla', 'Balantak', 'Rampi', 'Gulay', 'Tzeltal', 'Wayana', 'Pangasinan', 'Nyabwa', 'Bikol, Buhiâ\\\\x80\\\\x99non', 'Yemba', 'Luwo', 'Nahuatl, Eastern Huasteca', 'TerÃªna', 'Misima-Panaeati', 'Tai Dam', 'Didinga', 'Tol', 'SÃ©noufo, Supyire', 'Waiwai', 'Yamba', 'Hawaii Pidgin', 'Dida, YocobouÃ©', 'Zapotec, Western Tlacolula Valley', 'Yagua', 'Tibetan, Amdo', 'Dagara, Northern', 'Baatonum', 'Dani, Mid Grand Valley', 'Kisar', 'KayabÃ\\\\xad', 'Mam', 'Totonac, Highland', 'Nogai', 'Kwaio', 'Amharic', 'Tepehua, Pisaflores', 'Dza', 'Makaa', 'Mixtec, Magdalena PeÃ±asco', 'Kolami, Northwestern', 'Chiquitano', 'Hindustani, Sarnami', 'Koya', 'Nawdm', 'Sirmauri', 'Manobo, Western Bukidnon', 'Mandeali', 'Mixtec, Alcozauca', 'Mbay', 'Bwanabwana', 'Ngulu', 'Pitjantjatjara', 'Kyanga', 'Chin, Thado', 'Tairora, South', 'Yine', 'Hindi', 'Ignaciano', 'Mixtec, Ayutla', 'Kaansa', 'Khmer', 'Bisa', 'Ikwo', 'Wersing', 'WampÃ\\\\xads', 'Bengali', 'Meyah', 'Yaminahua', 'Kambaata', 'Sunwar', 'Greek, Ancient', 'Lole', 'Siane', 'Quichua, Salasaca Highland', 'Bughotu', 'Puinave', 'YanomamÃ¶', 'Tarifit', 'Tagin', 'Ojibwa, Northwestern', 'Sylheti', 'Tzotzil', 'Juray', 'Nahuatl, Northern Puebla', 'NambikuÃ¡ra, Southern', 'Bambam', 'Kulina', 'Kwere', 'Balochi, Southern', 'Kamano', 'Gujarati', 'Chiduruma', 'Nande', 'Ossetic', 'Vili', 'Seychelles French Creole', 'Desano', 'Nzema', 'Yuracare', 'Mabaan', 'Hindi, Fiji', 'Yambeta', 'Quechua, HuamalÃ\\\\xades-Dos de Mayo HuÃ¡nuco', 'Umbu-Ungu', 'Catalan', 'Rangpuri', 'Halbi', 'Sena', 'Awadhi', 'Tacana', 'Kuvi', 'Kumam', 'Ede Idaca', 'Maka', 'Patamona', 'Nahuatl, ZacatlÃ¡n-AhuacatlÃ¡n-Tepetzintla', 'Susu', 'Kaili, Daâ\\\\x80\\\\x99a', 'Shanga', 'Tsafiki', 'Kire', 'Krio', 'Tennet', 'Wala', 'DangalÃ©at', 'Puroik', 'Tajik', 'Korean', 'Suba', 'Bassa', 'Tatar', 'Odia', 'Tii', 'Tangoa', 'Tumak', 'Kenyang', 'Maâ\\\\x80\\\\x99di', 'Ganda', 'Male', 'Mentawai', 'Tolaki', 'Chukchi', 'Tamasheq', 'Mixtec, Santa LucÃ\\\\xada Monteverde', 'Bonggi', 'Sukuma', 'Haryanvi', 'Lahu', 'Witoto, Murui', 'Blaan, Koronadal', 'GuajajÃ¡ra', 'Quichua, Napo', 'Javanese, Suriname', 'Akoose', 'Mixtec, Chayuco', 'Kaili, Ledo', 'Udmurt', 'Chin, Falam', 'AshÃ©ninka, Ucayali-YurÃºa', 'Dogon, Toro So', 'Moba', 'Mixe, Totontepec', 'Chinantec, Lealao', 'Bokobaru', 'Fuliiru', 'Bhattiyali', 'Mannan', 'Tucano', 'Uduk', 'Batak Simalungun', 'Wolio', 'Nasa', 'AshÃ¡ninka', 'Korupun-Sela', 'Semelai', 'Fali, South', 'Akeu', 'Siwu', 'Dawro', 'Boko', 'Mayo', 'Nahuatl, Western Huasteca', 'Kamwe', 'PaumarÃ\\\\xad', 'Jakalteko', 'Kalinga, Majukayang', 'NadÃ«b', 'Epena', 'Tikar', 'Melpa', 'Urak Lawoiâ\\\\x80\\\\x99', 'Malay, Manado', 'Pele-Ata', 'Quechua, Huaylla Wanca', 'Nateni', 'Tagalog', 'Karachay-Balkar', 'Gwichâ\\\\x80\\\\x99in', 'Ifugao, Mayoyao', 'Basque', 'Kanite', 'Duri', 'Guarayu', 'Tuma-Irumu', 'Ninzo', 'Mada', 'Wayuu', 'Roviana', 'Koonzime', 'Swahili', 'Saramaccan', 'Assamese', 'Juang', 'Jopadhola', 'Quechua, Cajamarca', 'Bru, Eastern', 'Kwamera', 'Mende', 'Fon', 'Kulung', 'Machame', 'Tarahumara, Western', 'Fataleka', 'Buang, Mapos', 'Kurux', 'Berom', 'Muna', 'Nyole', 'Tobelo', 'Chuj', 'Chorote, Iyoâ\\\\x80\\\\x99wujwa', 'Toba-Maskoy', 'Owa', 'Dagba', 'Morisyen', 'Dzongkha', 'Nawuri', 'Kwaraâ\\\\x80\\\\x99ae', 'Swedish', 'Jola-Fonyi', 'KabiyÃ¨', 'Vidunda', 'Rabha', 'Blaan, Sarangani', 'Kisi, Southern', 'Quechua, Huallaga', 'Kuo', 'Maâ\\\\x80\\\\x99anyan', 'Yala', 'Sasak', 'Maldivian', 'Awakateko', 'Digaro-Mishmi', 'Hehe', 'Penan, Eastern', 'Naga, Kharam', 'Wandala', 'Hausa', 'Cacua', 'Gwahatike', 'Kogi', 'Nuni, Southern', 'Ravula', 'Zande', 'Uzbek', 'Holiya', 'Aruamu', 'BakwÃ©', 'Bemba', 'Limba, West-Central', 'Lampung Api', 'Gen', 'Aralle-Tabulahan', 'Daba', 'Papiamentu', 'Chinantec, Tepetotutla', 'Bana', 'Vagla', 'Riang Lang', 'Kannada', 'Kenga', 'Mixtec, Santa MarÃ\\\\xada Zacatepec', 'Rapa Nui', 'Purepecha', 'Cishingini', 'Hanunoo', 'Ila', 'Triqui, Chicahuaxtla', 'Imbongu', 'Toura', 'Moro', 'Mwaghavul', 'Yoruba', 'Alur', 'Kiribati', 'Mankanya', 'Churahi', 'Batak Toba', 'Nyakyusa-Ngonde', 'Sampang', 'Yipma', 'Zhuang, Yongbei', 'Mazatec, San JerÃ³nimo TecÃ³atl', 'Poqomchiâ\\\\x80\\\\x99', 'Vute', 'Aceh', 'Binumarien', 'Muyang', 'Mochi', 'Zapotec, Yatee', 'Tachelhit', 'Samburu', 'Toraja-Saâ\\\\x80\\\\x99dan', 'Bada', 'Uyghur', 'Quechua, Huaylas Ancash', 'Tampulma', 'Nahuatl, Central Huasteca', 'Quechua, Margos-Yarowilca-Lauricocha', 'Paranan', 'Ranglong', 'Anufo', 'Lolopo', 'Maya, MopÃ¡n', 'Oromo', 'Ukrainian', 'Tawbuid', 'Lokaa', 'Mbandja', 'Zapotec, YalÃ¡lag', 'Saâ\\\\x80\\\\x99a', 'Zapotec, Ozolotepec', 'Kanuri, Manga', 'Toba', 'Qâ\\\\x80\\\\x99eqchiâ\\\\x80\\\\x99', 'Merey', 'Witoto, Minika', 'Dedua', 'Quechua, Eastern ApurÃ\\\\xadmac', 'Songhay, Koyraboro Senni', 'Nyaturu', 'Romani, Carpathian', 'Ndut', 'Desiya', 'Tigrigna', 'Zapotec, Isthmus', 'PÃ©vÃ©', 'Chin, MÃ¼Ã¼n', 'KayapÃ³', 'Limbu', 'Kâ\\\\x80\\\\x99icheâ\\\\x80\\\\x99', 'Ngangam', 'Izii', 'Telugu', 'Nahuatl, MichoacÃ¡n', 'Waima', 'Albanian', 'Bali', 'Trinitario', 'Romani, Vlax', 'Zapotec, Guevea de Humboldt', 'IfÃ¨', 'Birifor, Malba', 'Keliko', 'Amis', 'Manobo, Obo', 'Arop-Lokep', 'Oroko', 'Fulah', 'Ketengban', 'Zigula', 'Kilivila', 'Bobo MadarÃ©, Southern', 'Ixil', 'Lauje', 'Lomwe', 'Zapotec, Quioquitani-QuierÃ\\\\xad', 'Quechua, San MartÃ\\\\xadn', 'Ngambay', 'Loko', 'Popoloca, San LuÃ\\\\xads Temalacayuca', 'Aukan', 'Lawa, Western', 'Selaru', 'Tombulu', 'Ngâ\\\\x80\\\\x99akarimojong', 'Kigiryama', 'Talinga-Bwisi', 'Mro-Khimi', 'Ese', 'Tuwuli', 'Aymara, Central', 'Arabela', 'Mampruli', 'Baelelea', 'Mengen', 'Triqui, Copala', 'Luguru', 'Piratapuyo', 'Chidigo', 'Khanty', 'Mixtec, TezoatlÃ¡n', 'Nahuatl, Sierra Negra', 'Kalanguya', 'Warao', 'Achagua', 'Yao', 'Shuar', 'Zapotec, MiahuatlÃ¡n', 'Kasem', 'Gokana', 'Chinantec, Sochiapam', 'Zapotec, RincÃ³n', 'Yami', 'Tibetan, Khams', 'Karelian', 'Tsikimba', 'Krung', 'Mixtec, Diuxi-Tilantongo', 'Chopi', 'Dinka, Southwestern', 'Zapotec, Cajonos', 'Kako', 'Momuna', 'Matsigenka', 'Cerma', 'Ilocano', 'Rundi', 'Sabaot', 'WÃ¨ Northern', 'Tsonga', 'Sambal', 'Batak Dairi', 'Adioukrou', 'Napu', 'Murut, Timugon', 'Mixtec, Northern Tlaxiaco', 'Zapotec, Sierra de JuÃ¡rez', 'Khakas', 'Songhay, Koyra Chiini', 'Zapotec, Yareni', 'Ika', 'Makhuwa', 'Kinyarwanda', 'Sambal, Botolan', 'Sadri', 'Itelmen', 'Yucuna', 'Klao', 'Macushi', 'Nyindrou', 'Kriol', 'Nahuatl, Highland Puebla', 'Achuar-Shiwiar', 'Kebu', 'Alune', 'Zapotec, Santa MarÃ\\\\xada Quiegolani', 'Abidji', 'Wolaytta', 'Ipili', 'Asu', 'Markweeta', 'Paicoca', 'Angor', 'Rikou', 'Bidayuh, Bau', 'Rawang', 'Huave, San Mateo del Mar', 'Sahu', 'Sissala', 'Prai', 'Naasioi', 'Tboli', 'Zapotec, LachixÃ\\\\xado', 'Mongolian', 'Nomatsigenga', 'Maan', 'Paiute, Northern', 'Koorete', 'Woun Meu', 'Zapotec, Texmelucan', 'Guahibo', 'Chittagonian', 'Ndamba', 'Burmese', 'Sakachep', 'AshÃ©ninka, Pichis', 'Themne', 'Kaapor', 'Sango', 'Marba', 'Moronene', 'Zaiwa', 'Hdi', 'AttiÃ©', 'Ghari', 'Tem', 'Persian', 'Qâ\\\\x80\\\\x99anjobâ\\\\x80\\\\x99al', 'Malay, Central', 'Itawit', 'Ntcham', 'Malay', 'Tsakhur', 'Carapana', 'Pahari, Mahasu', 'Welsh', 'YaourÃ©', 'Lobi', 'Guarani', 'Kim', 'Subanon, Western', 'Kuna, Border', 'Tabaru', 'Châ\\\\x80\\\\x99ortiâ\\\\x80\\\\x99', 'Kuman', 'Dagaare, Southern', 'Quichua, Tena Lowland', 'Grebo, Northern', 'Mon', 'Mazatec, Ayautla', 'Zapotec, AloÃ¡pam', 'Galela', 'Chechen', 'Wamey', 'Faroese', 'Tlicho', 'Kusaal', 'Tyap', 'Lelemi', 'Quechua, Panao', 'Siang', 'Buamu', 'Chuvash', 'Jamaican English Creole', 'Azerbaijani, South', 'Kinaray-a', 'Mangseng', 'Lutos', 'Yupik, Saint Lawrence Island', 'Capanahua', 'Mixtec, Alacatlatzala', 'Quichua, CaÃ±ar Highland', 'Teribe', 'KamayurÃ¡', 'Garifuna', 'Moskona', 'Otomi, QuerÃ©taro', 'Gapapaiwa', 'Kadazan Dusun', 'Pogolo', 'Birifor, Southern', 'AshÃ©ninka, Pajonal', 'Saamya-Gwe', 'Chamacoco', 'Yaneshaâ\\\\x80\\\\x99', 'Gbaya', 'Malayalam', 'Tuyuca', 'Bagri', 'Talysh', 'Lamnsoâ\\\\x80\\\\x99', 'Tok Pisin', 'Bandial', 'Buglere', 'Paasaal', 'Hamer-Banna', 'Tzâ\\\\x80\\\\x99utujil', 'Avokaya', 'Zapotec, Choapan', 'Quechua, Ayacucho', 'Ayoreo', 'Metaâ\\\\x80\\\\x99', 'Turkmen', 'Yawa', 'Kuwaa', 'Gikuyu', 'Chatino, Eastern Highland', 'Maithili', 'Ezaa', 'Pinyin', 'Dhimal', 'Mnong, Central', 'Gorontalo', 'Moma', 'Nahuatl, Northern Oaxaca', 'Palawano, Brookeâ\\\\x80\\\\x99s Point', 'Selee', 'Mwani', 'Maya, Yucatec', 'Anjam', 'Lobala', 'Dinka, Northeastern', 'Mixe, Quetzaltepec', 'Tamil', 'Ekajuk', 'Adele', 'Javanese', 'Pahari, Kullu', 'Ese Ejja', 'Anyin', 'Turkish', 'Miyobe', 'Chol', 'Punjabi, Eastern', 'Rejang', 'Mixtec, Coatzospan', 'Mamasa', 'TriÃ³', 'Bikol, Central', 'Idaâ\\\\x80\\\\x99an', 'Benga', 'Ticuna', 'Termanu', 'Daasanach', 'Mbula-Bwazza', 'Nalca', 'Matal', 'Wa, Parauk', 'Kinga', 'Kalinga, Butbut', 'Tamajaq, Tawallammat', 'Behoa', 'Pijin', 'Minangkabau', 'Yakut', 'Samoan', 'Kitharaka', 'Bedjond', 'Cuiba', 'Kandawo', 'Ambrym, North', 'Konso', 'Tonga', 'AchÃ©', 'Latvian', 'Tado', 'Bekwarra', 'Takia', 'Agutaynen', 'Urarina', 'Konkomba', 'Lao', 'Jur Modo', 'Kafa', 'Enxet', 'Shilluk', 'Zapotec, Yatzachi', 'Maskelynes', 'Bulgarian', 'LyÃ©lÃ©', 'Bahnar', 'Koryak', 'Chin, Eastern Khumi', 'Mixtec, Pinotepa Nacional', 'Lisu', 'Nkonya', 'Portuguese', 'Sebat Bet Gurage', 'Tagbanwa, Calamian', 'Hanga', 'Mofu, North', 'Dhao', 'Yom', 'Bhatri', 'Lango', 'Karakalpak', 'Kurumba, Alu', 'Mbuko', 'Muria, Far Western', 'Mixtec, Southern Puebla', 'Sranan Tongo', 'Bantoanon', 'Kangri', 'Tajio', 'Siona', 'Shambala', 'AwajÃºn', 'Garhwali', 'Gadaba, Mudhili', 'Kayah, Western', 'Macuna', 'Nafaanra', 'Awa-Cuaiquer', 'ParecÃ\\\\xads', 'Mapun', 'XerÃ©nte', 'Kumyk', 'Quichua, Northern Pastaza', 'Tohono Oâ\\\\x80\\\\x99odham', 'Somba-Siawari', 'Nuer', 'Batak Angkola', 'Kalmyk-Oirat', 'Chhattisgarhi', 'English', 'Mundari', 'Surgujia', 'Pamona', 'Lomwe, Malawi', 'Zapotec, Mitla', 'Kurdish, Northern', 'Kunda', 'Dan', 'Ifugao, Batad', 'Indonesian', 'Ramoaaina', 'Samo, Southern', 'Yamdena', 'Arosi', 'Wanano', 'Shipibo-Conibo', 'Arabic', 'Teiwa', 'Chin, Zyphe', 'Biali', 'Gude', 'Mango', 'Quechua, North Bolivian', 'Kuay', 'Kalagan', 'Sherpa', 'Chinantec, Palantla', 'Chinantec, Comaltepec', 'Iban', 'Ayta, Mag-Indi', 'Shona', 'Crimean Tatar', 'Akateko', 'Kabwa', 'Semai', 'Magahi', 'KonabÃ©rÃ©', 'Nias', 'SÃ©noufo, Mamara', 'Ronga', 'Laz', 'MÃ\\\\xadskito', 'Tanna, North', 'Komi-Zyrian', 'Nyoro', 'Ngaju', 'Mokole', 'Sougb', 'Aghul', 'Mixtec, Jamiltepec', 'Kawyaw', 'Cebuano', 'Manobo, Matigsalug', 'Malagasy', 'Masaaba', 'Achi', 'Torres Strait Creole', 'Vunjo', 'Kazakh', 'Kutep', 'Murle', 'Fijian', 'Mari, Meadow', 'Sisaala, Tumulung', 'Huli', 'Zulgo-Gemzek', 'KimrÃ©', 'Kashinawa', 'Mongondow', 'Manya', 'Dutch', 'Krumen, Plapo', 'Gwere', 'Nahuatl, Southeastern Puebla', 'Bashkort', 'Nugunu', 'Muinane', 'Gaddi', 'Gor', 'Haya', 'Chingoni', 'Orya', 'Lacid', 'Whitesands', 'Makhuwa-Meetto', 'Awa', 'Islander English Creole', 'Kapampangan', 'Cree, Plains', 'Makasar', 'Oniyan', 'Newar', 'Ifugao, Tuwali', 'Totonac, Coyutla', 'Thai', 'Jula', 'Cora, Santa Teresa', 'Alangan', 'Gagauz', 'Mazatec, IxcatlÃ¡n', 'Popoloca, San Marcos Tlacoyalco', 'Marathi', 'Chontal, Tabasco', 'Misak', 'Chinantec, Lalana', 'BisÃ£', 'Batak Karo', 'Kouya', 'Lama', 'Yalunka', 'Nanai', 'Bomu', 'Haitian Creole', 'Ngbaka', 'Maranao', 'Kupsapiiny', 'Lik', 'Bari', 'Lhao Vo', 'Ã\\\\x89wÃ©', 'Chichewa', 'Romani, Sinte', 'Gondi, Adilabad', 'Siriano', 'Sudest', 'Mazahua, Central', 'Sangir', 'Urdu', 'Gumuz', 'Evenki', 'Zapotec, OcotlÃ¡n', 'Khmer, Northern', 'Kakwa', 'Sunda', 'Dogri', 'Yali, Angguruk', 'Kyaka', 'Rigwe', 'Barai', 'Oku', 'Datooga', 'Delo', 'Altai, Southern', 'SÃ©noufo, Djimini', 'Kuranko', 'Agarabi', 'Parkwa', 'Shor', 'Vengo', 'Chatino, Nopala', 'Madura', 'Mixe, Juquila', 'Chumburung', 'Lewo', 'Romanian', 'Azerbaijani', 'Gungu', 'Zapotec, Coatecas Altas', 'Uspanteko', 'Finnish', 'Lukpa', 'Sharanahua', 'Ditammari', 'BakhtiÃ¢ri', 'Uma', 'Gikyode', 'Mambila, Cameroon', 'Mbore', 'Mixtec, PeÃ±oles', 'Otomi, Mezquital', 'Mandinka', 'Mixtec, Amoltepec', 'Naga, Tangshang', 'Bete-Bendi', 'Cora, El Nayar', 'Quechua, South Bolivian', 'Kimaragang', 'Ndogo', 'Caquinte', 'Polish', 'Karen, Pwo Northern', 'Nahuatl, Guerrero', 'Embera CatÃ\\\\xado', 'Zapotec, AmatlÃ¡n', 'Marshallese', 'Kukele', 'Kera', 'Rohingya', 'Waray-Waray', 'Icelandic', 'Chin, Tedim', 'Ron', 'Taabwa', 'Kuwaataay', 'Kallahan, Keley-i', 'Mazatec, ChiquihuitlÃ¡n', 'Mofu-Gudur', 'Bisu', 'Quechua, North JunÃ\\\\xadn', 'Bola', 'Mesme', 'Mundani', 'Kipfokomo', 'Pengo', 'Fordata', 'Noone', 'Karaboro, Eastern', 'Waimaha', 'Jukun Takum', 'Ngindo', 'Malay, Kupang', 'Mambila, Nigeria', 'Dendi', 'MÃ²orÃ©', 'Xaasongaxango', 'Thai, Northern', 'Deg', 'Mixtec, Apasco-Apoala', 'Shan', 'Iraqw', 'Hupla', 'Carib', 'BorÃ´ro', 'Hebrew', 'Mwan', 'Kalinga, Tanudan', 'Armenian, Western', 'Pidgin, Nigerian', 'Tamang, Eastern', 'NgÃ¤bere', 'Loma', 'Yali, Ninia', 'Tengger', 'Krumen, Tepo', 'Uripiv-Wala-Rano-Atchin', 'Avar', 'Tharu, Dangaura', 'Lesser Antillean French Creole', 'Hawu', 'Akawaio', 'Ayta, Mag-antsi', 'Soga', 'Migabac', 'Mualang', 'Tepehua, Tlachichilco', 'Tepehuan, Southeastern', 'Popoluca, Highland', 'Konni', 'Avatime', 'Tombonuo', 'CabÃ©car', 'Hiligaynon', 'Kuna, San Blas', 'Mazatec, Jalapa de DÃ\\\\xadaz', 'Moru', 'Mumuye', 'Koreguaje', 'Gofa', 'Akha', 'Quechua, Southern Conchucos', 'Mixtec, MetlatÃ³noc', 'MÃ¼ndÃ¼', 'Lundayeh', 'Guayabero', 'Nilamba', 'TsimanÃ©', 'Russian', 'SanumÃ¡', 'Keyagana', 'Ladakhi', 'Zapotec, Santo Domingo Albarradas', 'Bum', 'Izere', 'Kono', 'Mai Brat', 'Nomaande', 'Kyrgyz'}.\"}, {'role': 'user', 'content': \"These are the input storm records and forecasts.\\nEach record has a lat and lon according to their geographic coordinates and wind speed in knots.\\nPlease respond with the 3 most relevant languages exactly as they appear from the supported language list other than English each delimited by a comma.\\n[{'type': 'history', 'lat': -8.4, 'lon': 165.2, 'time': '2023-11-08 18:00:00', 'wind_speed': 15}, {'type': 'history', 'lat': -8.8, 'lon': 165.6, 'time': '2023-11-09 00:00:00', 'wind_speed': 15}, {'type': 'history', 'lat': -9.1, 'lon': 166.2, 'time': '2023-11-09 06:00:00', 'wind_speed': 15}, {'type': 'forecast', 'lat': -8.0, 'lon': 164.0, 'time': '2023-11-09T18:00:00', 'wind_speed': 25}, {'type': 'forecast', 'lat': -7.5, 'lon': 160.5, 'time': '2023-11-10T06:00:00', 'wind_speed': 30}, {'type': 'forecast', 'lat': -7.0, 'lon': 156.5, 'time': '2023-11-10T18:00:00', 'wind_speed': 30}, {'type': 'forecast', 'lat': -6.5, 'lon': 152.5, 'time': '2023-11-11T06:00:00', 'wind_speed': 35}, {'type': 'forecast', 'lat': -7.0, 'lon': 145.5, 'time': '2023-11-12T06:00:00', 'wind_speed': 40}]\"}]\n",
            "Spanish,French,Vietnamese\n",
            "['Spanish', 'French', 'Vietnamese']\n",
            "['Spanish', 'French', 'Vietnamese']\n"
          ]
        }
      ]
    },
    {
      "cell_type": "markdown",
      "source": [
        "# Tropical Storm Report\n",
        "This code will create the report in the language specified based on the tropical storm."
      ],
      "metadata": {
        "id": "QpWt0P0ZIsTi"
      }
    },
    {
      "cell_type": "code",
      "source": [
        "for storm in storm_langs:\n",
        "  for lang in storm_langs[storm]['names']:\n",
        "    prompts.chat(message)"
      ],
      "metadata": {
        "id": "duvumO8eIrnA"
      },
      "execution_count": null,
      "outputs": []
    },
    {
      "cell_type": "markdown",
      "source": [
        "The following are from the TTS implementation\n",
        "https://github.com/facebookresearch/fairseq/blob/main/examples/mms/tts/tutorial/MMS_TTS_Inference_Colab.ipynb\n"
      ],
      "metadata": {
        "id": "Yon5dUZ_mQ0r"
      }
    },
    {
      "cell_type": "code",
      "source": [
        "%cd ~/\n",
        "!git clone https://github.com/jaywalnut310/vits.git\n",
        "%cd vits/\n",
        "\n",
        "!pip install Cython==0.29.21\n",
        "!pip install librosa==0.8.0\n",
        "!pip install phonemizer==2.2.1\n",
        "!pip install scipy\n",
        "!pip install numpy\n",
        "!pip install torch\n",
        "!pip install torchvision\n",
        "!pip install matplotlib\n",
        "!pip install Unidecode==1.1.1\n",
        "\n",
        "%cd monotonic_align/\n",
        "%mkdir monotonic_align\n",
        "!python3 setup.py build_ext --inplace\n",
        "%cd ../\n",
        "%pwd"
      ],
      "metadata": {
        "id": "WG5YT8jUNQyP"
      },
      "execution_count": null,
      "outputs": []
    },
    {
      "cell_type": "code",
      "source": [],
      "metadata": {
        "id": "YEUKNiu0YkeG"
      },
      "execution_count": null,
      "outputs": []
    }
  ]
}