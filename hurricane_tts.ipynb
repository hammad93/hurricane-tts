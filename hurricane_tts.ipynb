{
  "nbformat": 4,
  "nbformat_minor": 0,
  "metadata": {
    "colab": {
      "provenance": [],
      "authorship_tag": "ABX9TyPhTdBhX9MhWT35gTE60vEU",
      "include_colab_link": true
    },
    "kernelspec": {
      "name": "python3",
      "display_name": "Python 3"
    },
    "language_info": {
      "name": "python"
    }
  },
  "cells": [
    {
      "cell_type": "markdown",
      "metadata": {
        "id": "view-in-github",
        "colab_type": "text"
      },
      "source": [
        "<a href=\"https://colab.research.google.com/github/hammad93/hurricane-tts/blob/main/hurricane_tts.ipynb\" target=\"_parent\"><img src=\"https://colab.research.google.com/assets/colab-badge.svg\" alt=\"Open In Colab\"/></a>"
      ]
    },
    {
      "cell_type": "code",
      "execution_count": null,
      "metadata": {
        "id": "NXdg-aYiMX3y"
      },
      "outputs": [],
      "source": [
        "!git clone https://github.com/hammad93/hurricane-tts.git"
      ]
    },
    {
      "cell_type": "code",
      "source": [
        "import os\n",
        "from google.colab import userdata\n",
        "if not os.getenv(\"AZURE_OPENAI_API_KEY\") :\n",
        "  os.environ[\"AZURE_OPENAI_API_KEY\"] = userdata.get('AZURE_OPENAI_API_KEY')"
      ],
      "metadata": {
        "id": "wRMRxcgXMqNH"
      },
      "execution_count": 6,
      "outputs": []
    },
    {
      "cell_type": "code",
      "source": [
        "!pip install -r hurricane-tts/requirements.txt"
      ],
      "metadata": {
        "id": "7sd6zskfNexR"
      },
      "execution_count": null,
      "outputs": []
    },
    {
      "cell_type": "code",
      "source": [
        "%cd hurricane-tts\n",
        "!python test.py"
      ],
      "metadata": {
        "colab": {
          "base_uri": "https://localhost:8080/"
        },
        "id": "W2ljOo9aM_ne",
        "outputId": "06acc744-b970-434c-e48c-e55afae5f178"
      },
      "execution_count": 8,
      "outputs": [
        {
          "output_type": "stream",
          "name": "stdout",
          "text": [
            "/content/hurricane-tts\n",
            "Please note that the AZURE_OPENAI_API_KEY must be set. Here are the constructed messages: [{'role': 'system', 'content': 'You are an AI assistant that helps people find information.'}, {'role': 'user', 'content': 'test'}]\n",
            "..\n",
            "----------------------------------------------------------------------\n",
            "Ran 2 tests in 6.808s\n",
            "\n",
            "OK\n"
          ]
        }
      ]
    },
    {
      "cell_type": "code",
      "source": [],
      "metadata": {
        "id": "WG5YT8jUNQyP"
      },
      "execution_count": null,
      "outputs": []
    },
    {
      "cell_type": "code",
      "source": [],
      "metadata": {
        "id": "YEUKNiu0YkeG"
      },
      "execution_count": null,
      "outputs": []
    }
  ]
}